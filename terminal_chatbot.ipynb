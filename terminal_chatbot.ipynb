{
 "cells": [
  {
   "attachments": {},
   "cell_type": "markdown",
   "metadata": {},
   "source": [
    "# Question-Answer System"
   ]
  },
  {
   "cell_type": "code",
   "execution_count": 1,
   "metadata": {},
   "outputs": [],
   "source": [
    "import openai\n",
    "import pandas as pd\n",
    "from prompts import *\n",
    "from langchain import OpenAI, LLMChain\n",
    "from langchain.chat_models import ChatOpenAI\n",
    "from langchain.memory import ConversationBufferMemory\n",
    "from langchain.agents import ZeroShotAgent, AgentExecutor\n",
    "from langchain.tools.python.tool import PythonAstREPLTool"
   ]
  },
  {
   "cell_type": "code",
   "execution_count": 2,
   "metadata": {},
   "outputs": [],
   "source": [
    "\n",
    "def load_data(filename) -> pd.DataFrame:\n",
    "    df = pd.read_csv(f\"data/{filename}\")\n",
    "\n",
    "    df['Date'] = pd.to_datetime(df['Date'])\n",
    "    # .dt.date\n",
    "    return df\n",
    "\n",
    "\n",
    "\n",
    "def create_pandas_dataframe_agent(\n",
    "    llm,\n",
    "    df: pd.DataFrame,\n",
    "    prefix: str,\n",
    "    suffix: str,\n",
    "    format_instructions: str,\n",
    "    verbose: bool,\n",
    "    memory\n",
    ") -> AgentExecutor:\n",
    "    \"\"\"Construct a pandas agent from an LLM and dataframe.\"\"\"\n",
    "\n",
    "    if not isinstance(df, pd.DataFrame):\n",
    "        raise ValueError(f\"Expected pandas object, got {type(df)}\")\n",
    "\n",
    "    input_variables = [\"df\", \"input\", \"chat_history\", \"agent_scratchpad\"]\n",
    "\n",
    "    tools = [PythonAstREPLTool(locals={\"df\": df})]\n",
    "\n",
    "    prompt = ZeroShotAgent.create_prompt(\n",
    "        tools=tools,\n",
    "        prefix=prefix,\n",
    "        suffix=suffix,\n",
    "        format_instructions=format_instructions,\n",
    "        input_variables=input_variables\n",
    "    )\n",
    "    partial_prompt = prompt.partial(df=str(df.head()))\n",
    "\n",
    "    llm_chain = LLMChain(\n",
    "        llm=llm,\n",
    "        prompt=partial_prompt\n",
    "    )\n",
    "    tool_names = [tool.name for tool in tools]\n",
    "\n",
    "    agent = ZeroShotAgent(llm_chain=llm_chain,\n",
    "                          allowed_tools=tool_names, verbose=verbose)\n",
    "\n",
    "    return AgentExecutor.from_agent_and_tools(\n",
    "        agent=agent,\n",
    "        tools=tools,\n",
    "        verbose=verbose,\n",
    "        memory=memory\n",
    "    )\n"
   ]
  },
  {
   "cell_type": "code",
   "execution_count": 3,
   "metadata": {},
   "outputs": [
    {
     "name": "stderr",
     "output_type": "stream",
     "text": [
      "C:\\Users\\ga201\\AppData\\Local\\Temp\\ipykernel_1652\\436993238.py:4: UserWarning: Parsing dates in DD/MM/YYYY format when dayfirst=False (the default) was specified. This may lead to inconsistently parsed dates! Specify a format to ensure consistent parsing.\n",
      "  df['Date'] = pd.to_datetime(df['Date'])\n"
     ]
    }
   ],
   "source": [
    "\n",
    "# VARIABLES\n",
    "MODEL_NAME = \"gpt-4\"\n",
    "TEMPERATURE = 0.1\n",
    "df = load_data('pk_data.csv')\n",
    "api_key = \"\"\n",
    "org = \"\"\n",
    "\n",
    "if MODEL_NAME == 'gpt-4':\n",
    "    llm = ChatOpenAI(temperature=TEMPERATURE,\n",
    "                     model_name=MODEL_NAME,\n",
    "                     openai_api_key=api_key)\n",
    "else:\n",
    "    llm = OpenAI(temperature=TEMPERATURE,\n",
    "                 model_name=MODEL_NAME,\n",
    "                 openai_api_key=api_key)\n",
    "\n",
    "# ViewIt OpenAI API key\n",
    "openai.organization = org\n",
    "openai.api_key = api_key\n",
    "\n",
    "\n",
    "# Set up memory\n",
    "memory = ConversationBufferMemory(memory_key=\"chat_history\")\n",
    "\n",
    "\n",
    "# AGENT CREATION HAPPENS HERE\n",
    "agent = create_pandas_dataframe_agent(\n",
    "    llm=llm,\n",
    "    df=df,\n",
    "    prefix=REIDIN_PREFIX,\n",
    "    suffix=SUFFIX,\n",
    "    format_instructions=FORMAT_INSTRUCTIONS,\n",
    "    verbose=True,\n",
    "    memory=memory\n",
    ")"
   ]
  },
  {
   "cell_type": "code",
   "execution_count": 5,
   "metadata": {},
   "outputs": [
    {
     "name": "stdout",
     "output_type": "stream",
     "text": [
      "\n",
      "\n",
      "\u001b[1m> Entering new AgentExecutor chain...\u001b[0m\n",
      "\u001b[32;1m\u001b[1;3mThe customer is asking for the total number of transactions in the dataframe. I can use the len() function in Python to get the number of rows in the dataframe, which represents the number of transactions.\n",
      "Action: python_repl_ast\n",
      "Action Input: len(df)\u001b[0m\n",
      "Observation: \u001b[36;1m\u001b[1;3m127134\u001b[0m\n",
      "Thought:\u001b[32;1m\u001b[1;3mI now know the final answer.\n",
      "Final Answer: There are a total of 127,134 transactions.\u001b[0m\n",
      "\n",
      "\u001b[1m> Finished chain.\u001b[0m\n"
     ]
    },
    {
     "data": {
      "text/plain": [
       "'There are a total of 127,134 transactions.'"
      ]
     },
     "execution_count": 5,
     "metadata": {},
     "output_type": "execute_result"
    }
   ],
   "source": [
    "agent.run('How many transactions are there?')"
   ]
  }
 ],
 "metadata": {
  "kernelspec": {
   "display_name": "py310",
   "language": "python",
   "name": "python3"
  },
  "language_info": {
   "codemirror_mode": {
    "name": "ipython",
    "version": 3
   },
   "file_extension": ".py",
   "mimetype": "text/x-python",
   "name": "python",
   "nbconvert_exporter": "python",
   "pygments_lexer": "ipython3",
   "version": "3.10.9"
  },
  "orig_nbformat": 4
 },
 "nbformat": 4,
 "nbformat_minor": 2
}
